{
 "cells": [
  {
   "cell_type": "code",
   "execution_count": 1,
   "metadata": {},
   "outputs": [],
   "source": [
    "import urllib.request as url\n",
    "import bs4"
   ]
  },
  {
   "cell_type": "code",
   "execution_count": 2,
   "metadata": {},
   "outputs": [],
   "source": [
    "web = url.urlopen(\"https://www.indiatoday.in/top-stories\")\n",
    "page1 = bs4.BeautifulSoup(web,'lxml')\n",
    "#print(page1)"
   ]
  },
  {
   "cell_type": "code",
   "execution_count": 3,
   "metadata": {},
   "outputs": [],
   "source": [
    "b = page1.find('div',class_='view-content')\n",
    "temp_hrefs = []\n",
    "for a in b.find_all('a',href =True):\n",
    "    g =(a['href'])\n",
    "    temp_hrefs.append(g)"
   ]
  },
  {
   "cell_type": "code",
   "execution_count": 4,
   "metadata": {},
   "outputs": [
    {
     "data": {
      "text/plain": [
       "12"
      ]
     },
     "execution_count": 4,
     "metadata": {},
     "output_type": "execute_result"
    }
   ],
   "source": [
    "len(temp_hrefs)"
   ]
  },
  {
   "cell_type": "code",
   "execution_count": 9,
   "metadata": {},
   "outputs": [
    {
     "name": "stdout",
     "output_type": "stream",
     "text": [
      "The Assam government has allowed certain relaxations during the ongoing lockdown in Kamrup (Metro) district, from July 5 to 12, Chief Secretary Kumar Sanjay Krishna said on Saturday. Guwahati city falls under the same districtA complete lockdown has been imposed in the district for 14 days since June 28 following a surge in the number of Covid-19 cases in Guwahati city.Guwahati city has reported 2,114 coronavirus cases. According to the relaxations, grocery shops are allowed to operate between 11 am and 4 pm on July 8 and 8 with the deputy commissioner issuing requisite directives to ensure only 20 per cent of all shops are allowed to open on any day, he said in an order issued on Saturday. Other directives include:Shopkeepers and customers shall have to wear masks, hand gloves and maintain social distancing and the responsibility of maintenance of social distancing will be on the shopowners and failure to do so will be viewed very seriously and may entail summary closure of defaulting shops.The wholesalers of grocery items are allowed to replenish stocks of retailers on July five and seven between 3 pm and 6 pm but no retail sale will be allowed during this period.Activities relating to essential items supply from and to Food Corporation of India (FCI) establishments shall be allowed to operate but it will ensure that social distancing is maintained while loading/unloading of goods and that vehicles carrying goods to other districts proceed to destinations without any stoppage inside (Kamrup Metro) district.House to house sale of fruits and vegetables will be allowed between 8 am and 2 pm on Monday and Wednesday but no roadside vending of fruit, vegetable, fish and other commodities will be allowed.Activities related to wholesale distribution of medicines and medical equipment shall be allowed between 10 am and 3 pm on Monday and Wednesday.Veterinary clinics, veterinary medicine shops are allowed to operate on all days between 10 am and 4 pm while feed shops are allowed to operate on Monday and Wednesday.E-commerce distribution activities are allowed between 11 am and 4 pm on July 10 only.Only 10 per cent of post offices and Life Insurance Corporation offices are allowed to operate with only 10 per cent staff.All other restrictions imposed by the previous order on June 26 announcing the lockdown shall remain in place, the order stated.READ MORE | Assam flood situation improves, 10.75 lakh people still affected, death toll rises to 37READ MORE | Assam: Wild animals flee Kaziranga National Park due to floods; 2 held for killing hog deerALSO WATCH | Covid-19 unit set up for cops in UP; IIT Guwahati to work on vaccine; more\n"
     ]
    }
   ],
   "source": [
    "headings = []\n",
    "news = []\n",
    "pics = []\n",
    "for i in range(1):\n",
    "    new_web =  url.urlopen(\"https://www.indiatoday.in\"+temp_hrefs[i])\n",
    "    new_page = bs4.BeautifulSoup(new_web,'lxml')\n",
    "    head = new_page.find('h1',itemprop = 'headline')\n",
    "    headings.append(head.text)\n",
    "    newss = new_page.find('div',itemprop='articleBody')\n",
    "    print(newss.text)\n",
    "    pic_link = new_page.find('img', itemprop='contentUrl')\n",
    "    pics.append(pic_link['data-src'])"
   ]
  },
  {
   "cell_type": "code",
   "execution_count": 6,
   "metadata": {},
   "outputs": [
    {
     "data": {
      "text/plain": [
       "[]"
      ]
     },
     "execution_count": 6,
     "metadata": {},
     "output_type": "execute_result"
    }
   ],
   "source": [
    "news"
   ]
  },
  {
   "cell_type": "markdown",
   "metadata": {},
   "source": [
    "# Sports"
   ]
  },
  {
   "cell_type": "code",
   "execution_count": 39,
   "metadata": {},
   "outputs": [],
   "source": [
    "web = url.urlopen(\"https://www.indiatoday.in/sports\")\n",
    "page1 = bs4.BeautifulSoup(web,'lxml')\n",
    "#print(page1)"
   ]
  },
  {
   "cell_type": "code",
   "execution_count": 41,
   "metadata": {},
   "outputs": [],
   "source": [
    "b = page1.find('ul',class_='itg-listing')\n",
    "#print(b)\n",
    "temp_hrefs = []\n",
    "headings = []\n",
    "for a in b.find_all('a',href =True):\n",
    "    head = a.text\n",
    "    headings.append(head)\n",
    "    g =(a['href'])\n",
    "    temp_hrefs.append(g)"
   ]
  },
  {
   "cell_type": "code",
   "execution_count": 32,
   "metadata": {},
   "outputs": [],
   "source": [
    "news = []\n",
    "pics = []\n",
    "for i in range(len(headings)):\n",
    "    new_web =  url.urlopen(\"https://www.indiatoday.in\"+temp_hrefs[i])\n",
    "    new_page = bs4.BeautifulSoup(new_web,'lxml')\n",
    "    newss = new_page.find('div',itemprop='articleBody').text\n",
    "    news.append(newss)\n",
    "    pic_link = new_page.find('img', itemprop='contentUrl')\n",
    "    pics.append(pic_link['data-src'])"
   ]
  },
  {
   "cell_type": "markdown",
   "metadata": {},
   "source": [
    "# Gaming news"
   ]
  },
  {
   "cell_type": "code",
   "execution_count": 63,
   "metadata": {},
   "outputs": [],
   "source": [
    "web = url.urlopen(\"https://www.gamesradar.com/news/\")\n",
    "page1 = bs4.BeautifulSoup(web,'lxml')\n",
    "b = page1.find('div',class_='listingResults news')\n",
    "temp_hrefs = []\n",
    "headings = []\n",
    "c = 0\n",
    "for a in b.find_all('a',href =True):\n",
    "    g =(a['href'])\n",
    "    if(c%2==0):\n",
    "        temp_hrefs.append(g)\n",
    "    c+=1\n",
    "temp_hrefs = temp_hrefs[:10]"
   ]
  },
  {
   "cell_type": "code",
   "execution_count": 64,
   "metadata": {},
   "outputs": [],
   "source": [
    "news = []\n",
    "pics = []\n",
    "headings = []\n",
    "for i in range(len(temp_hrefs)):\n",
    "    new_web =  url.urlopen(temp_hrefs[i])\n",
    "    new_page = bs4.BeautifulSoup(new_web,'lxml')\n",
    "    head = new_page.find('h1')\n",
    "    headings.append(head.text)\n",
    "    newss = new_page.find('div',class_='text-copy bodyCopy auto').text\n",
    "    news.append(newss)\n",
    "    pic_link = new_page.find('img', class_='block-image-ads hero-image')\n",
    "    pics.append(pic_link['src'])"
   ]
  },
  {
   "cell_type": "code",
   "execution_count": 67,
   "metadata": {},
   "outputs": [
    {
     "data": {
      "text/plain": [
       "['\\nTwo senior Ubisoft executives, Tommy François and Maxime Béland, have reportedly been placed on administrative leave as the company commences an investigation into misconduct allegations.\\xa0At the time of writing, neither François nor Béland were available for comment, but a spokesperson for Ubisoft, Stephanie Magnier, told Bloomberg: “These are under investigation, so we are not commenting further at this time\".\\xa0Both are part of Ubisoft\\'s editorial team, a group of approximately 100 designers who have \"overseen\" the development of all of its contemporary titles, advising on numerous aspects of development, from visuals to narrative design.The news comes just days after Ubisoft released a statement about apologising \"to everyone affected by [the allegations]\", promising it would \"be sharing additional measures that we are putting in place with our teams in the coming days\". Internal correspondence seen by Bloomberg reportedly told Ubisoft employees the company was “deeply concerned by these accusations”.\"We are truly sorry,\" the publisher/developer said. \"We are dedicated to creating an inclusive and safe environment for our teams, players, and communities. It is clear we have fallen short of this in the past. We must do better.\"\"We have started by launching investigations into the allegations with the support of specialized external consultants,\" the statement continued. \"Based on the outcomes, we are fully committed to taking any and all appropriate disciplinary action. As these investigations are ongoing, we can\\'t comment further. We are also auditing our existing policies, processes, and systems to understand where these have broken down, and to ensure we can better prevent, detect, and punish inappropriate behaviour.\"Here are the upcoming games of 2020 we really just can\\'t wait for.\\n\\n',\n",
       " '\\nStreamer Dr Disrespect has been permanently banned from Twitch.At the time of writing it\\'s unclear why Dr Disrespect has been removed from the streaming platform, and neither Twitch nor Dr Disrespect – whose real name is Guy Beahm – have responded to requests for clarification.\"As is our process, we take appropriate action when we have evidence that a streamer has acted in violation of our Community Guidelines or Terms of Service,\" a Twitch representative told Polygon. \"These apply to all streamers regardless of status or prominence in the community.\"Twitch would not, however, be drawn on what guidelines Beahm has been found to have breached, but sources reportedly close to the situation have quelled speculation that the action came as a result of DMCA takedowns.\\xa0Prior to his removal, Dr Disrespect had over four million followers on the streaming platform, as well as an exclusivity contract with Twitch. He has yet to formally comment on the decision on any of his social media channels.\\xa0Beahm is no stranger to controversy, of course. As Ford summarised recently, during E3 2019, Beahm had a cameraman following him around, live streaming his experience. He followed him inside the male bathrooms at the event while continuing to stream, which is against convention rules. He was subsequently suspended from Twitch and his E3 badge was revoked. , but two weeks later, his Twitch channel was reinstated.\\xa0In August last year, Musician Jimmy Wong called out Dr DisRespect for being outwardly racist on stream and performing caricatures of Chinese accents.\\xa0As Ford goes on to add, \"the man behind the mask rarely, if ever, shows his true face. He\\'s often talked about thanks to being the subject of plenty of controversies\".There\\'s a lot to get excited about in gaming this year. Here are the upcoming games of 2020 we really just can\\'t wait for.\\n\\n',\n",
       " '\\nBefore COVID-19 caused widespread industry shutdowns in the comic book Direct Market, Marvel Comics announced a new crossover/event storyline embroiling its teen heroes in a controversy not that unfamiliar to the publisher or long-time readers: a newly-minted government agency called CRADLE (Child Hero Reconnaissance and Disruption Law Enforcement) regulating teen superheroes following a tragedy that apparently killed or seriously injured several heroes and civilian students alike.The title of this crossover/event? \\'Outlawed.\\'(Image credit: Marvel Comics)The policy, called \"Kamala\\'s Law\" after Kamala Khan (who protected a high profile activist presumed to be the target of the attack), suffering grievous injuries in the process.The comic that kicked off the initiative – Outlawed #1 – came out March 18, just before the comic book Direct Market went on widespread hiatus; meaning that, while the setup for the story has been in place for several months, we\\'ve barely scratched the surface of the fallout since the intended follow-up comics had their release dates pushed back.(Image credit: Marvel Comics)With its focus on kid and teen heroes, the wider \\'Outlawed\\' event is intended to encompass the ongoing series Miles Morales: Spider-Man and The Magnificent Ms. Marvel as well as three new limited series - Champions, New Warriors, and Power Pack. However, not all of those aspects of the story have come home to roost, as those new series we mentioned are still waiting to be re-scheduled by Marvel. So before Marvel brings \\'Outlawed\\' in full-swing, here\\'s everything you need to know about what happened, and what\\'s in the works.In the previously-released Outlawed #1, Miles Morales and Kamala Khan attend a youth science conference where a young climate activist is scheduled to speak – while the rest of their teen superhero team the Champions surreptitiously keep guard outside the school where the conference is taking place.During the activist\\'s keynote speech, a giant dragon attacks (seemingly at the behest of Roxxon Energy Corporation), attempting to destroy the Champions and the school. The Champions intervene, but things go haywire when Viv Vision phases into the dragon just as Power Man hits it with a fully-charged Chi-strike, resulting in the dragon being defeated - and Viv Vision becoming an apparently infinite conduit for energy that is ravaging the surrounding area.(Image credit: Marvel Comics)Inside the collapsing, critically damaged school, Kamala protects the climate activist from a cave-in, saving her life and becoming critically injured in the process. In the aftermath, the Champions are investigated by a congressional committee who determine that they are the ones primarily responsible for the school\\'s destruction, and ratifying \\'Kamala\\'s Law\\' to restrict teen superhero activity.So far, only one \\'Outlawed\\' tie-in has been released: June 10\\'s Miles Morales: Spider-Man #17. Two other tie-in issues have been solicited – September 2\\'s Miles Morales: Spider-Man #18 and September 9\\'s Magnificent Ms. Marvel #14. Those three spin-offs we mentioned remain unsolicited – but presumably still in the works.(Image credit: Marvel Comics)As for what they\\'ll be, the first planned title is a relaunch of Champions by writer Eve L. Ewing, who wrote Outlawed #1, and artist Simone Di Meo which was originally scheduled for release on April 8. The new volume would have focused on the trio of Miles Morales, Kamala Khan, and Sam Alexander/Nova as the core of a new Champions team operating outside the law.Then there\\'s a relaunched New Warriors limited series by writer Daniel Kibblesmith and artist Luciano Vecchio, which will focus on former New Warriors Justice, Night Thrasher, Namorita, Firestar, Rage, Speedball, and Silhouette training a new team of official recruits with names and powers derived from socially relevant real-world concepts such as Screentime, Snowflake, Safespace, B-Negative, and Trailblazer.(Image credit: Marvel Comics)Finally, the third planned series will be a new Power Pack limited series by writer Ryan North and artist Nico Leon that will follow the Power family as they try to navigate a return to super-heroics in a world where the government regulates teen superheroes.As for when these books will come out? Marvel hasn\\'t offered an updated schedule for \\'Outlawed\\', with updated September solicitations arriving earlier this month. The publisher did not respond to Newsarama’s inquiry earlier this week about the return of these titles and the planned ‘Outlawed’ branding.But given the publisher has implemented a staggered schedule for reprising its releases, so it\\'s likely the new titles – Champions, Power Pack, and New Warriors – will join the already re-solicited Miles Morales: Spider-Man and Magnificent Ms. Marvel in the foreseeable future.\\n\\n',\n",
       " '\\nDC is putting all their marketing marbles in the upcoming Batman event \\'Joker War\\' and it finally kicks off next month on July 21 with Batman #95, written by James Tynion IV and illustrated by Jorge Jimenez and Tomeu Morey.Here\\'s how the publisher is describing the \"final showdown\" between Batman and the Joker.\"It was always going to come to this. The Clown Prince of Crime and the Dark Knight Detective go head-to-head for the last time. The Joker has never wanted to win before, he\\'s never wanted his battle with Batman to end, but now his motivation has shifted. He has decided that one way or another, this will be the final chapter to their story.\"(Image credit: DC)As you can see by preview pages DC has released, they\\'re slipping in a reference to Mark of Zorro, established in Frank Miller\\'s Batman: The Dark Knight Returns #1 as the movie a young Bruce Wayne attended with his parents the night they were murdered in Crime Alley, after decades of retellings of his origin simply referencing an unidentified movie.Miller later corroborated the identity of the film in Batman: Year One and in both instances, it was the 1940 version starring Tyrone Power although subsequently writer Alan Grant referenced the 1920 silent version in Batman #459.The identity of the movie has become official continuity since even if DC hasn\\'t officially pinned down the version.\\'Joker War\\' itself will conclude with Batman #100 in October, which you can bet DC has significant plans to celebrate.\\xa0\"It’s going to be a new status quo,\" Tynion told Newsarama about Batman post-\\'Joker War.\\' \"Let’s put it that way. We’re going to shake things up in Gotham City. Bruce Wayne is going to be upfront and center, but the Gotham City he operates in has changed a lot, and the way he operates as Batman is going to have to change a lot.\"Check out the full preview of Batman #95 below.Image 1 of 8(Image credit: DC)Image 2 of 8(Image credit: DC)Image 3 of 8(Image credit: DC)Image 4 of 8(Image credit: DC)Image 5 of 8(Image credit: DC)Image 6 of 8(Image credit: DC)Image 7 of 8(Image credit: DC)Image 8 of 8(Image credit: DC)\\n\\n',\n",
       " '\\nValiant Entertainment\\'s comic books took a hiatus due to the effects of the COVID-19 pandemic on the industry, but its flagship title Bloodshot is returning September 16 - and arguably Valiant\\'s other flagship hero, X-O Manowar, will be guest-starring in the issue.\"Kaiju! Taliban Glorymen! A visigoth in a fancy space suit! All of these things (and MUCH, MUCH, MORE) await you in the new arc of Bloodshot!\" Valiant senior editor Lysa Hawkins tells Newsarama - the \"visigoth in a fancy space suit\" being X-O Manowar.\"[Bloodshot #8 is the] perfect place for any fan to jump on board,\" Hawkins continues. \"We\\'ll see old friends, new frenemies and we\\'ll even give you some conclusions by the end of the arc!\"Here\\'s an unlettered two-page spread from Bloodshot #8, along with three uncolored, unlettered pages from #9:Image 1 of 4(Image credit: Valiant Entertainment)Image 2 of 4(Image credit: Valiant Entertainment)Image 3 of 4(Image credit: Valiant Entertainment)Image 4 of 4(Image credit: Valiant Entertainment)September 16\\'s Bloodshot #8 is the second part of \"The Long Shot\" arc, with series writer Tim Seeley and guest artists Pedro Andreo and Andrew Dalhouseo. Artist Marc Laming returns for Bloodshot #9 on October 14, as well as November 18\\'s #10.\"The plan is to supply readers with something they say they want — a big, apolitical, stakes-filled action comic about a hero who is desperately trying to be better despite knowing what a monster he’s been in the past,\" Seeley told Newsarama previously about this arc.\\xa0\"And I want to add in more of the \\'monster\\' aspect to this, not just in the deeds of our hero, but playing around with the idea that if Bloodshot is a high-tech Frankenstein’s monster, then he should have enemies that are high-tech vampires, ghosts, werewolves... all my favorite stuff.\"The main cover is drawn by Tyler Kirkham, with variants by Diego Bernard and Cryssy Cheung. Here they are:Image 1 of 3(Image credit: Valiant Entertainment)Image 2 of 3(Image credit: Valiant Entertainment)Image 3 of 3(Image credit: Valiant Entertainment)\"Non-stop, pulse-racing adventures is what\\'s on the menu for Bloodshot, that and plenty of protein. Gotta keep the goldies (nannites) happy!\" Hawkins adds.\\xa0The first two arcs of this Bloodshot volume were released earlier this year as Bloodshot: Book One and Bloodshot: Book Two. The recent Vin Diesel-led Bloodshot film is available now digitally.\\n\\n',\n",
       " \"\\nMargot Robbie will star in a new Pirates of the Caribbean with Birds of Prey writer Christina Hodson joining her to pen the script.According to The Hollywood Reporter, Robbie and Hodson's Pirates film is a separate entity from the franchise reboot, which is currently in the works from Pirates writer Tim Elliot and Chernobyl's Craig Mazin. It will not be a spin-off of the franchise that starred Johnny Depp as Jack Sparrow, but rather a female-fronted original story with brand-new characters under the Pirates franchise umbrella (a Pirate Cinematic Universe, if I may). Jerry Bruckheimer, longtime producer of the Pirates films, is attached to both Elliot's and Robbie's projects.There's nary a whisper on plot or casting aside from Robbie, who will likely take the lead role. Here's hoping she steps into seawater-soaked boots and plays a crass, conniving, absolute drunk of a pirate - less Elizabeth Swann in the first movie and more Barbarossa, please.\\xa0Robbie's Harley Quinn in this year's Birds of Prey is a fantastic blueprint for a swashbuckling lady pirate: a character singularly obsessed with what she considers treasure (in this case, a bodega bacon, egg, and cheese), only willing to help out for as long as it benefits her. Whatever role Robbie plays and how she chooses to play it, this film just got bumped to the top of my list of most anticipated movies.\\xa0Robbie and Hodson didn't just collaborate on Birds of Prey; they also started the Lucky Exports Pitch Program in 2019, which aims to get more female-identifying writers hired to write action movies. Hear, hear.\\xa0The most exciting movies of 2020 and beyond (add it to the list).\\xa0\\n\\n\",\n",
       " '\\nUpdate: The Xbox Lockhart documentation leak has drawn out some new details on what kind of hardware it may include.The leak of documents created for game developers included reference to a Lockhart profiling mode. According to anonymous sources cited by The Verge, this option is included in Xbox Series X developer kits to let creators test their games against the lower-performance specs being targeted for Lockhart.Those specs reportedly include \"7.5GB of usable RAM, a slightly underclocked CPU speed, and around 4 teraflops of GPU performance\", as compared to Xbox Series X\\'s targets for 13.5GB of usable ram and 12 teraflops of GPU performance. Recent rumors indicate that the Xbox Lockhart price could be half that of Xbox Series X, so those reduced hardware capabilities could be accompanied by a significantly smaller hit to your bank account.Those same rumors also point to Xbox Lockhart finally getting its big debut at the Xbox 20/20 event in July, so hopefully we\\'ll have some more solid info about the much-leaked console soon.Original story followsXbox Lockhart has re-surfaced in documentation that solidifies its existence as a complementary console to Xbox Series X.A security researcher who goes by TitleOS on Twitter posted a couple of snippets from the June version of Microsoft\\'s GameCore Development Kit notes, which are available to developers but not typically to the public. The notes mention \"LockhartProfiling modes\" alongside \"AnacondaProfiling\", all as part of the development kit for Project Scarlett.More proof of Lockhart, this time from the XDK/GDK release notes for June 2020. pic.twitter.com/hulDoC9owvJune 24, 2020It\\'s all but confirmed at this point that Anaconda is the internal Microsoft codename for Xbox Series X, while Project Scarlett refers to the company\\'s overarching plans for its next console generation. Lockhart is allegedly a lower-priced alternative to Anaconda/Xbox Series X, with less powerful hardware and no built-in disc drive.TitleOS previously shared some code from the backend of Windows that pointed to Lockhart. Today, they retweeted another dataminer who spotted references to Lockhart in the Xbox One operating system itself.Further mentions for Lockhart are scattered throughout the Xbox One OS - including the development tools and more. Raises interest given @XB1_HexDecimal\\'s information. pic.twitter.com/sLFmp3XTi5June 25, 2020Though Lockhart has been showing up in leaks for quite some time now, Microsoft has still yet to officially confirm it with less than half a year between now and the holiday 2020 launch window for Xbox Series X. Microsoft could always launch the console later down the line, giving Xbox Series X more time to stand on its own.On the other hand, Sony recently revealed that it will launch the PS5 Digital Edition at the same time as its disc-drive-bearing version this year. We\\'ll have to wait and see if that influences Microsoft\\'s overarching plans.See what\\'s on the way in Microsoft\\'s next-generation with our guide to upcoming Xbox Series X games.\\xa0\\n\\n',\n",
       " '\\nThe Boys are back! The Supes are soaring again thanks to a new The Boys season 2-centric stream, which has revealed a September release date for the Amazon Prime hit superhero series as well as a big shake-up to its release schedule. Spoiler: It\\'s not coming all at once.Yep, The Boys season 2 is officially flying our way on Amazon’s streaming service on September 4, though only the first three episodes. The rest will air weekly every Friday.The announcement (which was revealed on \"The Boys F**kin\\' Reunited\" stream involving the entire cast) also included the first three minutes of The Boys season 2. That teaser, which begins at 47:30 in the video above, highlighted a Vought board meeting and was soundtracked to The Rolling Stones\\' \"Sympathy for the Devil.\"Some fans might have been expecting a slightly earlier release date for The Boys season 2, especially if you’ve been following what showrunner Eric Kripke had to say last year.Speaking to Collider Kripke hoped for season 2 to “drop one full year after the first season, so about the same time next year [in July].”Now, it’s going to be September, not July – but that’s perhaps unsurprising given how even post-production is being affected by on the ongoing COVID-19 pandemic.Recently, The Boys season 2 has even had all eight of its upcoming episode titles revealed by the Writers Guild of America West website.\"Butcher, Baker, Candlestick Maker\"\"Nothing Like It In The World\"\"Over The Hill With The Swords Of A Thousand Men\"\"Proper Preparation and Planning\"\"The Big Ride\"\"The Bloody Doors Off\"\"We Gotta Go Now\"\"What I Know\"First three minutes? Check. Episode titles? Check. Release date? Super check. So, the pieces are coming together. Get your middle fingers ready: It\\'s not long now until The Boys are back in town.\\xa0Best movies on Amazon Prime\\xa0Best shows on Amazon PrimeNew on Amazon Prime\\xa0\\n\\n',\n",
       " \"\\nThe Destiny 2 Xur June 26 location is down in the EDZ. Land in the Winding Cove and head north until you reach a crashed spaceship perched on a ledge. Jump up to the ledge using the rocks on the right to reach Xur. The snake-faced merchant will stick around until reset time on Tuesday, June 30.\\xa0Here's everything Xur is selling this weekend. Remember that even if you already own all of these Exotics, you can still buy armor again for a better stat roll. That's in addition to Xur's random Exotic engram, which is always worth buying.Exotic weapon - The Colony: fires tiny robot insects that seek out enemies and explode when they get close. The Colony is one of the strangest and most amusing Exotics in Destiny 2, but it's not terribly powerful. It's great fun in PvP since you can basically just shoot all your grenades in the direction of the enemies and watch the kills roll in, but at the same time enemies can avoid your little robots just by jumping. You can't beat the comic relief of a random Colony kill, though.Hunter Exotic - Young Ahamkara's Spine: tripmine grenades last longer and have a larger explosion. Dealing damage with abilities grants tripmine grenade energy. Ahamkara's Spine is basically the tripmine version of Shinobu's Vow, and it comes with the same recommendation: if you really like this grenade type, you'll probably enjoy using this Exotic.Titan Exotic - Synthoceps: increases melee range, and increases melee and super damage while you're surrounded. The Synthoceps are a staple neutral Titan Exotic, especially in PvP, where it can work wonders with abilities like Knockout. Even in PvE, with the right Artifact and Charged with Light mods, Synthoceps can put in some serious work.\\xa0Warlock Exotic - Phoenix Protocol: getting kills and assists inside your Well of Radiance grants super energy. If you're running middle tree solar Warlock in PvE, particularly in raids or dungeons, you probably want to use Phoenix Protocol. It makes Well of Radiance much more powerful and consistent, adding yet more utility to an already powerful support class.\\xa0Here's everything we know about the future of Destiny 2, from a trilogy of expansions to next-gen support. \\xa0\\n\\n\",\n",
       " '\\nMass Effect fans know Mordin Solus is the real scientist-soldier-singer triple threat, and now you can help him enjoy his well-earned retirement in plush form.Fandom merch specialists Sanshee are currently taking pre-orders for their Mass Effect - Mordin Solus Collector\\'s Plush, an adorable recreation of the stalwart Salarian, but only for two more days. On top of being a huggable, super-deformed version of the Mass Effect squadmate who (potentially) cured the Krogan genophage, the plush also sings four different songs when you press his left hand - with batteries included.While Mordin\\'s left hand is used to show off his singing talents, his right hand has a little built-in magnet that can be used to attach an included seashell plush. You know, so he can run tests on it. Sorry, I\\'m not crying as I remember my Mordin\\'s valiant sacrifice, I just have something in my special eyes.According to Sanshee, the Mordin plushes should start shipping out in early August. If you want to give him a little friend, you could also pre-order this adorable little Hanar Hanger Plush that\\'s set to ship a little later. Or you could pretend he\\'s Blasto and recreate your own version of the first hanar Spectre\\'s explosive exploits.Previous Mass Effect plushes from Sanshee include Garrus, who is currently sold out, and Grunt, who is currently on sale for $19.99. Don\\'t feel bad, Grunt - you\\'re much more than a Wrex stand-in in our hearts.BioWare says it\\'s working on a new game from one of its \"most prestigious franchises\" and we really hope it\\'s Mass Effect.\\n\\n']"
      ]
     },
     "execution_count": 67,
     "metadata": {},
     "output_type": "execute_result"
    }
   ],
   "source": [
    "news"
   ]
  },
  {
   "cell_type": "markdown",
   "metadata": {},
   "source": [
    "# AI"
   ]
  },
  {
   "cell_type": "code",
   "execution_count": null,
   "metadata": {},
   "outputs": [],
   "source": []
  }
 ],
 "metadata": {
  "kernelspec": {
   "display_name": "Python 3",
   "language": "python",
   "name": "python3"
  },
  "language_info": {
   "codemirror_mode": {
    "name": "ipython",
    "version": 3
   },
   "file_extension": ".py",
   "mimetype": "text/x-python",
   "name": "python",
   "nbconvert_exporter": "python",
   "pygments_lexer": "ipython3",
   "version": "3.7.6"
  }
 },
 "nbformat": 4,
 "nbformat_minor": 4
}
