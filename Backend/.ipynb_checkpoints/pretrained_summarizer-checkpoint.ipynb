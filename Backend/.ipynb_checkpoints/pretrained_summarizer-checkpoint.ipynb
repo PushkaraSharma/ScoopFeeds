{
 "cells": [
  {
   "cell_type": "code",
   "execution_count": 1,
   "metadata": {},
   "outputs": [
    {
     "name": "stdout",
     "output_type": "stream",
     "text": [
      "Collecting transformers\n",
      "  Downloading transformers-2.11.0-py3-none-any.whl (674 kB)\n",
      "\u001b[K     |████████████████████████████████| 674 kB 716 kB/s eta 0:00:01\n",
      "\u001b[?25hCollecting tokenizers==0.7.0\n",
      "  Downloading tokenizers-0.7.0-cp37-cp37m-manylinux1_x86_64.whl (5.6 MB)\n",
      "\u001b[K     |████████████████████████████████| 5.6 MB 369 kB/s eta 0:00:01\n",
      "\u001b[?25hRequirement already satisfied: requests in /home/pushkara/anaconda3/lib/python3.7/site-packages (from transformers) (2.22.0)\n",
      "Requirement already satisfied: tqdm>=4.27 in /home/pushkara/anaconda3/lib/python3.7/site-packages (from transformers) (4.42.1)\n",
      "Requirement already satisfied: packaging in /home/pushkara/anaconda3/lib/python3.7/site-packages (from transformers) (20.1)\n",
      "Requirement already satisfied: numpy in /home/pushkara/anaconda3/lib/python3.7/site-packages (from transformers) (1.18.1)\n",
      "Collecting sacremoses\n",
      "  Downloading sacremoses-0.0.43.tar.gz (883 kB)\n",
      "\u001b[K     |████████████████████████████████| 883 kB 571 kB/s eta 0:00:01\n",
      "\u001b[?25hCollecting regex!=2019.12.17\n",
      "  Downloading regex-2020.6.8-cp37-cp37m-manylinux2010_x86_64.whl (661 kB)\n",
      "\u001b[K     |████████████████████████████████| 661 kB 708 kB/s eta 0:00:01\n",
      "\u001b[?25hCollecting sentencepiece\n",
      "  Downloading sentencepiece-0.1.91-cp37-cp37m-manylinux1_x86_64.whl (1.1 MB)\n",
      "\u001b[K     |████████████████████████████████| 1.1 MB 406 kB/s eta 0:00:01\n",
      "\u001b[?25hRequirement already satisfied: filelock in /home/pushkara/anaconda3/lib/python3.7/site-packages (from transformers) (3.0.12)\n",
      "Requirement already satisfied: certifi>=2017.4.17 in /home/pushkara/anaconda3/lib/python3.7/site-packages (from requests->transformers) (2019.11.28)\n",
      "Requirement already satisfied: urllib3!=1.25.0,!=1.25.1,<1.26,>=1.21.1 in /home/pushkara/anaconda3/lib/python3.7/site-packages (from requests->transformers) (1.25.8)\n",
      "Requirement already satisfied: chardet<3.1.0,>=3.0.2 in /home/pushkara/anaconda3/lib/python3.7/site-packages (from requests->transformers) (3.0.4)\n",
      "Requirement already satisfied: idna<2.9,>=2.5 in /home/pushkara/anaconda3/lib/python3.7/site-packages (from requests->transformers) (2.8)\n",
      "Requirement already satisfied: six in /home/pushkara/anaconda3/lib/python3.7/site-packages (from packaging->transformers) (1.14.0)\n",
      "Requirement already satisfied: pyparsing>=2.0.2 in /home/pushkara/anaconda3/lib/python3.7/site-packages (from packaging->transformers) (2.4.6)\n",
      "Requirement already satisfied: click in /home/pushkara/anaconda3/lib/python3.7/site-packages (from sacremoses->transformers) (7.0)\n",
      "Requirement already satisfied: joblib in /home/pushkara/anaconda3/lib/python3.7/site-packages (from sacremoses->transformers) (0.14.1)\n",
      "Building wheels for collected packages: sacremoses\n",
      "  Building wheel for sacremoses (setup.py) ... \u001b[?25ldone\n",
      "\u001b[?25h  Created wheel for sacremoses: filename=sacremoses-0.0.43-py3-none-any.whl size=893259 sha256=3343815aa733a4ceb86be0f0fc307bfcd8d102a3d901f2f60d78c38d7f8a16d6\n",
      "  Stored in directory: /home/pushkara/.cache/pip/wheels/69/09/d1/bf058f7d6fa0ecba2ce7c66be3b8d012beb4bf61a6e0c101c0\n",
      "Successfully built sacremoses\n",
      "Installing collected packages: tokenizers, regex, sacremoses, sentencepiece, transformers\n",
      "Successfully installed regex-2020.6.8 sacremoses-0.0.43 sentencepiece-0.1.91 tokenizers-0.7.0 transformers-2.11.0\n"
     ]
    }
   ],
   "source": [
    "#!pip install transformers"
   ]
  },
  {
   "cell_type": "code",
   "execution_count": 47,
   "metadata": {},
   "outputs": [
    {
     "name": "stdout",
     "output_type": "stream",
     "text": [
      "Found existing installation: torch 1.5.1\n",
      "Uninstalling torch-1.5.1:\n",
      "  Would remove:\n",
      "    /home/pushkara/anaconda3/bin/convert-caffe2-to-onnx\n",
      "    /home/pushkara/anaconda3/bin/convert-onnx-to-caffe2\n",
      "    /home/pushkara/anaconda3/lib/python3.7/site-packages/caffe2/*\n",
      "    /home/pushkara/anaconda3/lib/python3.7/site-packages/torch-1.5.1.dist-info/*\n",
      "    /home/pushkara/anaconda3/lib/python3.7/site-packages/torch/*\n",
      "Proceed (y/n)? ^C\n",
      "\u001b[31mERROR: Operation cancelled by user\u001b[0m\n"
     ]
    }
   ],
   "source": [
    "#!pip install torch"
   ]
  },
  {
   "cell_type": "code",
   "execution_count": 4,
   "metadata": {},
   "outputs": [
    {
     "name": "stdout",
     "output_type": "stream",
     "text": [
      "Looking in links: https://download.pytorch.org/whl/torch_stable.html\n",
      "Collecting torch==1.5.0+cpu\n",
      "  Downloading https://download.pytorch.org/whl/cpu/torch-1.5.0%2Bcpu-cp38-cp38-linux_x86_64.whl (127.3 MB)\n",
      "\u001b[K     |████████████████████████████████| 127.3 MB 11 kB/s  eta 0:00:01   |                                | 337 kB 221 kB/s eta 0:09:35     |███▉                            | 15.2 MB 1.7 MB/s eta 0:01:05     |███████████████▉                | 62.9 MB 731 kB/s eta 0:01:29     |███████████████████▋            | 78.2 MB 1.2 MB/s eta 0:00:40     |███████████████████████████▊    | 110.3 MB 2.8 MB/s eta 0:00:07\n",
      "\u001b[?25hCollecting torchvision==0.6.0+cpu\n",
      "  Downloading https://download.pytorch.org/whl/cpu/torchvision-0.6.0%2Bcpu-cp38-cp38-linux_x86_64.whl (5.7 MB)\n",
      "\u001b[K     |████████████████████████████████| 5.7 MB 148 kB/s eta 0:00:01\n",
      "\u001b[?25hRequirement already satisfied: numpy in /home/pushkara/.local/lib/python3.8/site-packages (from torch==1.5.0+cpu) (1.18.5)\n",
      "Requirement already satisfied: future in /usr/lib/python3/dist-packages (from torch==1.5.0+cpu) (0.18.2)\n",
      "Requirement already satisfied: pillow>=4.1.1 in /usr/lib/python3/dist-packages (from torchvision==0.6.0+cpu) (7.0.0)\n",
      "Installing collected packages: torch, torchvision\n",
      "Successfully installed torch-1.5.0+cpu torchvision-0.6.0+cpu\n"
     ]
    }
   ],
   "source": [
    "#!pip3 install torch==1.5.0+cpu torchvision==0.6.0+cpu -f https://download.pytorch.org/whl/torch_stable.html\n"
   ]
  },
  {
   "cell_type": "code",
   "execution_count": 1,
   "metadata": {},
   "outputs": [],
   "source": [
    "import torch\n",
    "import json\n",
    "from transformers import T5Tokenizer,T5ForConditionalGeneration,T5Config"
   ]
  },
  {
   "cell_type": "code",
   "execution_count": 2,
   "metadata": {},
   "outputs": [],
   "source": [
    "model = T5ForConditionalGeneration.from_pretrained('t5-small')\n",
    "tokenizer = T5Tokenizer.from_pretrained('t5-small')\n",
    "device = torch.device('cpu')"
   ]
  },
  {
   "cell_type": "code",
   "execution_count": 27,
   "metadata": {},
   "outputs": [],
   "source": [
    "def summarizer(input):\n",
    "    preprocess_text = input.strip().replace(\"\\n\",'')\n",
    "    #print(len(preprocess_text))\n",
    "    t5_prepared_text = \"summarize: \"+preprocess_text\n",
    "    #print(\"Original text after Preprocessing: \\n\",preprocess_text)\n",
    "    tokenzid_text = tokenizer.encode(t5_prepared_text,return_tensors=\"pt\").to(device)\n",
    "    #print(len(tokenzid_text[0]))\n",
    "    summary_ids = model.generate(tokenzid_text,num_beams=4,no_repeat_ngram_size=2,min_length=10,max_length=100,early_stopping=True)\n",
    "    output = tokenizer.decode(summary_ids[0],skip_special_tokens=True)\n",
    "    temp = output.split()\n",
    "    for i in range(len(temp)):\n",
    "        if(i==0):\n",
    "            temp[i] = temp[i].capitalize() \n",
    "        elif(temp[i-1]=='.' or temp[i-1][-1]=='.' or temp[i-1][:-2]=='. '):\n",
    "            temp[i] = temp[i].capitalize() \n",
    "    output = ' '.join(temp)\n",
    "    return output"
   ]
  },
  {
   "cell_type": "code",
   "execution_count": null,
   "metadata": {},
   "outputs": [],
   "source": []
  },
  {
   "cell_type": "code",
   "execution_count": 22,
   "metadata": {},
   "outputs": [
    {
     "name": "stderr",
     "output_type": "stream",
     "text": [
      "Token indices sequence length is longer than the specified maximum sequence length for this model (1202 > 512). Running this sequence through the model will result in indexing errors\n"
     ]
    },
    {
     "name": "stdout",
     "output_type": "stream",
     "text": [
      "SUMMARY:-\n",
      "\n",
      "'outlawed' is a new crossover/event storyline aimed at teen superheroes. The first planned series will be relaunch of Champions by writer Eve L. Ewing and artist Luciano Vecchio, who wrote outlawing #1 - and the new series is due to be released on january 8\n"
     ]
    }
   ],
   "source": [
    "text = \"\"\"\n",
    "\\nBefore COVID-19 caused widespread industry shutdowns in the comic book Direct Market, Marvel Comics announced a new crossover/event storyline embroiling its teen heroes in a controversy not that unfamiliar to the publisher or long-time readers: a newly-minted government agency called CRADLE (Child Hero Reconnaissance and Disruption Law Enforcement) regulating teen superheroes following a tragedy that apparently killed or seriously injured several heroes and civilian students alike.The title of this crossover/event? \\'Outlawed.\\'(Image credit: Marvel Comics)The policy, called \"Kamala\\'s Law\" after Kamala Khan (who protected a high profile activist presumed to be the target of the attack), suffering grievous injuries in the process.The comic that kicked off the initiative – Outlawed #1 – came out March 18, just before the comic book Direct Market went on widespread hiatus; meaning that, while the setup for the story has been in place for several months, we\\'ve barely scratched the surface of the fallout since the intended follow-up comics had their release dates pushed back.(Image credit: Marvel Comics)With its focus on kid and teen heroes, the wider \\'Outlawed\\' event is intended to encompass the ongoing series Miles Morales: Spider-Man and The Magnificent Ms. Marvel as well as three new limited series - Champions, New Warriors, and Power Pack. However, not all of those aspects of the story have come home to roost, as those new series we mentioned are still waiting to be re-scheduled by Marvel. So before Marvel brings \\'Outlawed\\' in full-swing, here\\'s everything you need to know about what happened, and what\\'s in the works.In the previously-released Outlawed #1, Miles Morales and Kamala Khan attend a youth science conference where a young climate activist is scheduled to speak – while the rest of their teen superhero team the Champions surreptitiously keep guard outside the school where the conference is taking place.During the activist\\'s keynote speech, a giant dragon attacks (seemingly at the behest of Roxxon Energy Corporation), attempting to destroy the Champions and the school. The Champions intervene, but things go haywire when Viv Vision phases into the dragon just as Power Man hits it with a fully-charged Chi-strike, resulting in the dragon being defeated - and Viv Vision becoming an apparently infinite conduit for energy that is ravaging the surrounding area.(Image credit: Marvel Comics)Inside the collapsing, critically damaged school, Kamala protects the climate activist from a cave-in, saving her life and becoming critically injured in the process. In the aftermath, the Champions are investigated by a congressional committee who determine that they are the ones primarily responsible for the school\\'s destruction, and ratifying \\'Kamala\\'s Law\\' to restrict teen superhero activity.So far, only one \\'Outlawed\\' tie-in has been released: June 10\\'s Miles Morales: Spider-Man #17. Two other tie-in issues have been solicited – September 2\\'s Miles Morales: Spider-Man #18 and September 9\\'s Magnificent Ms. Marvel #14. Those three spin-offs we mentioned remain unsolicited – but presumably still in the works.(Image credit: Marvel Comics)As for what they\\'ll be, the first planned title is a relaunch of Champions by writer Eve L. Ewing, who wrote Outlawed #1, and artist Simone Di Meo which was originally scheduled for release on April 8. The new volume would have focused on the trio of Miles Morales, Kamala Khan, and Sam Alexander/Nova as the core of a new Champions team operating outside the law.Then there\\'s a relaunched New Warriors limited series by writer Daniel Kibblesmith and artist Luciano Vecchio, which will focus on former New Warriors Justice, Night Thrasher, Namorita, Firestar, Rage, Speedball, and Silhouette training a new team of official recruits with names and powers derived from socially relevant real-world concepts such as Screentime, Snowflake, Safespace, B-Negative, and Trailblazer.(Image credit: Marvel Comics)Finally, the third planned series will be a new Power Pack limited series by writer Ryan North and artist Nico Leon that will follow the Power family as they try to navigate a return to super-heroics in a world where the government regulates teen superheroes.As for when these books will come out? Marvel hasn\\'t offered an updated schedule for \\'Outlawed\\', with updated September solicitations arriving earlier this month. The publisher did not respond to Newsarama’s inquiry earlier this week about the return of these titles and the planned ‘Outlawed’ branding.But given the publisher has implemented a staggered schedule for reprising its releases, so it\\'s likely the new titles – Champions, Power Pack, and New Warriors – will join the already re-solicited Miles Morales: Spider-Man and Magnificent Ms. Marvel in the foreseeable future.\\n\\n\n",
    "\n",
    "\"\"\"\n",
    "text2 = \"\"\"  India is hopeful of getting important platforms like the S-400 anti-missile system earlier than scheduled from Russia, Defence Minister Rajnath Singh hinted during a press interaction in Moscow on Tuesday.\"I have been assured that ongoing contracts will be maintained and not just maintained, in a number of cases, will be taken forward in a shorter time. All of our proposals have received a positive response from the Russian side. I am fully satisfied with my discussions,\" Rajnath Singh added.The Defence Minister did not name any specific weapons system but reports suggest that India is urging Russia to expedite the delivery that has been delayed due to the novel coronavirus pandemic. India has made some payments but the delivery was initially expected only by December 2021.Rajnath Singh also described India-Russia relations as a \"strategic partnership\".\"Our defence relationship is one of its important pillars. I had an opportunity to review our defence relationship with Deputy Prime Minister Yury Borisov and I thank him for the honour of visiting me in this hotel, despite the restrictions of the pandemic. My discussions were very positive and productive,\" the defence minister said.Borisov is the co-chair of the Inter-Governmental Commission with India on Trade & Economic & Scientific Cooperation. He also co-chairs the High Level Committee on Science & Technology along with Rajnath Singh. Their discussions on bilateral cooperation and regional issues were very positive and productive, a statement from defence ministry said.Meanwhile, sources denied Chinese publication Global Times\\' report on the possibility of Defence Minister Rajnath Singh meeting his Chinse counterpart. \"The defence minister will not meet his Chinese counterpart. The reports are not true,\" sources in the Ministry of Defence in New Delhi clarified.Rajnath Singh also said that he is happy to visit Moscow at the invitation of the Russian Ministry of Defence to attend the 75th Anniversary of the Victory Day Parade which is a most auspicious occasion for Russia and the whole world. \"Indian soldiers participated in the war effort in the millions and suffered immense causalities. Many of them were part of the war efforts to providing assistance to the Soviet Army,\" Singh told reporters.He further added how it is a great honor that an Indian Military contingent will be marching in the Red Square on June 24, a sign of everlasting friendship between the armed forces of both India and Russia.\"My visit to Moscow is the first foreign visit from India of an official delegation after the COVID pandemic. This is a sign of our special friendship. Despite all the difficulties of the pandemic, our bilateral relations are keeping good contacts at various levels,\" Rajnath Singh said.The defence minister went further to state that India is looking forward to hosting President of the Russian Federation Vladimir Putin at the invitation of Prime Minister Narendra Modi later this year.Earlier on Tuesday, Defence Secretary Ajay Kumar had discussions with his counterpart, Russian Deputy Defence Minister Fomin.\"I can say with confidence that the traditional friendship between India and Russia remain strong. Our mutual interests are solid and we look to future cooperation in the spirit of our special friendship,\" Defence Minister Rajnath Singh told reporters in Moscow on Tuesday.READ | No quick fix solution, disengagement in Ladakh to be staggered over monthsALSO READ | FMs focus on multilateralism in key RIC meet, Jaishank\"\"\"\n",
    "output = summarizer(text)\n",
    "temp = output.split()\n",
    "for i in range(len(temp)):\n",
    "    if(i==0):\n",
    "        temp[i] = temp[i].capitalize() \n",
    "    elif(temp[i-1]=='.' or temp[i-1][-1]=='.' or temp[i-1][:-2]=='. '):\n",
    "        temp[i] = temp[i].capitalize() \n",
    "output = ' '.join(temp)\n",
    "print(\"SUMMARY:-\\n\")\n",
    "print(output)"
   ]
  },
  {
   "cell_type": "code",
   "execution_count": 28,
   "metadata": {},
   "outputs": [
    {
     "name": "stderr",
     "output_type": "stream",
     "text": [
      "Token indices sequence length is longer than the specified maximum sequence length for this model (746 > 512). Running this sequence through the model will result in indexing errors\n"
     ]
    },
    {
     "name": "stdout",
     "output_type": "stream",
     "text": [
      "SUMMARY:-\n",
      "\n",
      "India is hopeful of getting important platforms like the S-400 anti-missile system earlier than scheduled from Russia. All of our proposals have received a positive response from the Russian side, Rajnath Singh adds. The defence minister did not name any specific weapons system but reports suggest that India is urging Russia to expedite the delivery that has been delayed due to the novel coronavirus pandemic.\n"
     ]
    }
   ],
   "source": [
    "text = \"\"\"\n",
    "        India is hopeful of getting important platforms like the S-400 anti-missile system earlier than scheduled from Russia, Defence Minister Rajnath Singh hinted during a press interaction in Moscow on Tuesday.\"I have been assured that ongoing contracts will be maintained and not just maintained, in a number of cases, will be taken forward in a shorter time. All of our proposals have received a positive response from the Russian side. I am fully satisfied with my discussions,\" Rajnath Singh added.The Defence Minister did not name any specific weapons system but reports suggest that India is urging Russia to expedite the delivery that has been delayed due to the novel coronavirus pandemic. India has made some payments but the delivery was initially expected only by December 2021.Rajnath Singh also described India-Russia relations as a \"strategic partnership\".\"Our defence relationship is one of its important pillars. I had an opportunity to review our defence relationship with Deputy Prime Minister Yury Borisov and I thank him for the honour of visiting me in this hotel, despite the restrictions of the pandemic. My discussions were very positive and productive,\" the defence minister said.Borisov is the co-chair of the Inter-Governmental Commission with India on Trade & Economic & Scientific Cooperation. He also co-chairs the High Level Committee on Science & Technology along with Rajnath Singh. Their discussions on bilateral cooperation and regional issues were very positive and productive, a statement from defence ministry said.Meanwhile, sources denied Chinese publication Global Times\\' report on the possibility of Defence Minister Rajnath Singh meeting his Chinse counterpart. \"The defence minister will not meet his Chinese counterpart. The reports are not true,\" sources in the Ministry of Defence in New Delhi clarified.Rajnath Singh also said that he is happy to visit Moscow at the invitation of the Russian Ministry of Defence to attend the 75th Anniversary of the Victory Day Parade which is a most auspicious occasion for Russia and the whole world. \"Indian soldiers participated in the war effort in the millions and suffered immense causalities. Many of them were part of the war efforts to providing assistance to the Soviet Army,\" Singh told reporters.He further added how it is a great honor that an Indian Military contingent will be marching in the Red Square on June 24, a sign of everlasting friendship between the armed forces of both India and Russia.\"My visit to Moscow is the first foreign visit from India of an official delegation after the COVID pandemic. This is a sign of our special friendship. Despite all the difficulties of the pandemic, our bilateral relations are keeping good contacts at various levels,\" Rajnath Singh said.The defence minister went further to state that India is looking forward to hosting President of the Russian Federation Vladimir Putin at the invitation of Prime Minister Narendra Modi later this year.Earlier on Tuesday, Defence Secretary Ajay Kumar had discussions with his counterpart, Russian Deputy Defence Minister Fomin.\"I can say with confidence that the traditional friendship between India and Russia remain strong. Our mutual interests are solid and we look to future cooperation in the spirit of our special friendship,\" Defence Minister Rajnath Singh told reporters in Moscow on Tuesday.READ | No quick fix solution, disengagement in Ladakh to be staggered over monthsALSO READ | FMs focus on multilateralism in key RIC meet, Jaishank'\n",
    "\n",
    "\n",
    "\"\"\"\n",
    "#temp = text.split()\n",
    "#temp = temp[:374]\n",
    "#text = ' '.join(temp)\n",
    "output = summarizer(text)\n",
    "print(\"SUMMARY:-\\n\")\n",
    "print(output)"
   ]
  },
  {
   "cell_type": "code",
   "execution_count": null,
   "metadata": {},
   "outputs": [],
   "source": [
    "t5_summarizer = pipeline(\"summarization\", model=\"t5-larfge\", tokenizer=\"t5-large\")\n",
    "\n",
    "summary = t5_summarizer(TEXT_TO_SUMMARIZE, min_length=80, max_length=150)"
   ]
  }
 ],
 "metadata": {
  "kernelspec": {
   "display_name": "Python 3",
   "language": "python",
   "name": "python3"
  },
  "language_info": {
   "codemirror_mode": {
    "name": "ipython",
    "version": 3
   },
   "file_extension": ".py",
   "mimetype": "text/x-python",
   "name": "python",
   "nbconvert_exporter": "python",
   "pygments_lexer": "ipython3",
   "version": "3.7.6"
  }
 },
 "nbformat": 4,
 "nbformat_minor": 4
}
