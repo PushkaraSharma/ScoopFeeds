{
 "cells": [
  {
   "cell_type": "code",
   "execution_count": 1,
   "metadata": {},
   "outputs": [
    {
     "name": "stdout",
     "output_type": "stream",
     "text": [
      "Collecting transformers\n",
      "  Downloading transformers-2.11.0-py3-none-any.whl (674 kB)\n",
      "\u001b[K     |████████████████████████████████| 674 kB 716 kB/s eta 0:00:01\n",
      "\u001b[?25hCollecting tokenizers==0.7.0\n",
      "  Downloading tokenizers-0.7.0-cp37-cp37m-manylinux1_x86_64.whl (5.6 MB)\n",
      "\u001b[K     |████████████████████████████████| 5.6 MB 369 kB/s eta 0:00:01\n",
      "\u001b[?25hRequirement already satisfied: requests in /home/pushkara/anaconda3/lib/python3.7/site-packages (from transformers) (2.22.0)\n",
      "Requirement already satisfied: tqdm>=4.27 in /home/pushkara/anaconda3/lib/python3.7/site-packages (from transformers) (4.42.1)\n",
      "Requirement already satisfied: packaging in /home/pushkara/anaconda3/lib/python3.7/site-packages (from transformers) (20.1)\n",
      "Requirement already satisfied: numpy in /home/pushkara/anaconda3/lib/python3.7/site-packages (from transformers) (1.18.1)\n",
      "Collecting sacremoses\n",
      "  Downloading sacremoses-0.0.43.tar.gz (883 kB)\n",
      "\u001b[K     |████████████████████████████████| 883 kB 571 kB/s eta 0:00:01\n",
      "\u001b[?25hCollecting regex!=2019.12.17\n",
      "  Downloading regex-2020.6.8-cp37-cp37m-manylinux2010_x86_64.whl (661 kB)\n",
      "\u001b[K     |████████████████████████████████| 661 kB 708 kB/s eta 0:00:01\n",
      "\u001b[?25hCollecting sentencepiece\n",
      "  Downloading sentencepiece-0.1.91-cp37-cp37m-manylinux1_x86_64.whl (1.1 MB)\n",
      "\u001b[K     |████████████████████████████████| 1.1 MB 406 kB/s eta 0:00:01\n",
      "\u001b[?25hRequirement already satisfied: filelock in /home/pushkara/anaconda3/lib/python3.7/site-packages (from transformers) (3.0.12)\n",
      "Requirement already satisfied: certifi>=2017.4.17 in /home/pushkara/anaconda3/lib/python3.7/site-packages (from requests->transformers) (2019.11.28)\n",
      "Requirement already satisfied: urllib3!=1.25.0,!=1.25.1,<1.26,>=1.21.1 in /home/pushkara/anaconda3/lib/python3.7/site-packages (from requests->transformers) (1.25.8)\n",
      "Requirement already satisfied: chardet<3.1.0,>=3.0.2 in /home/pushkara/anaconda3/lib/python3.7/site-packages (from requests->transformers) (3.0.4)\n",
      "Requirement already satisfied: idna<2.9,>=2.5 in /home/pushkara/anaconda3/lib/python3.7/site-packages (from requests->transformers) (2.8)\n",
      "Requirement already satisfied: six in /home/pushkara/anaconda3/lib/python3.7/site-packages (from packaging->transformers) (1.14.0)\n",
      "Requirement already satisfied: pyparsing>=2.0.2 in /home/pushkara/anaconda3/lib/python3.7/site-packages (from packaging->transformers) (2.4.6)\n",
      "Requirement already satisfied: click in /home/pushkara/anaconda3/lib/python3.7/site-packages (from sacremoses->transformers) (7.0)\n",
      "Requirement already satisfied: joblib in /home/pushkara/anaconda3/lib/python3.7/site-packages (from sacremoses->transformers) (0.14.1)\n",
      "Building wheels for collected packages: sacremoses\n",
      "  Building wheel for sacremoses (setup.py) ... \u001b[?25ldone\n",
      "\u001b[?25h  Created wheel for sacremoses: filename=sacremoses-0.0.43-py3-none-any.whl size=893259 sha256=3343815aa733a4ceb86be0f0fc307bfcd8d102a3d901f2f60d78c38d7f8a16d6\n",
      "  Stored in directory: /home/pushkara/.cache/pip/wheels/69/09/d1/bf058f7d6fa0ecba2ce7c66be3b8d012beb4bf61a6e0c101c0\n",
      "Successfully built sacremoses\n",
      "Installing collected packages: tokenizers, regex, sacremoses, sentencepiece, transformers\n",
      "Successfully installed regex-2020.6.8 sacremoses-0.0.43 sentencepiece-0.1.91 tokenizers-0.7.0 transformers-2.11.0\n"
     ]
    }
   ],
   "source": [
    "#!pip install transformers"
   ]
  },
  {
   "cell_type": "code",
   "execution_count": 47,
   "metadata": {},
   "outputs": [
    {
     "name": "stdout",
     "output_type": "stream",
     "text": [
      "Found existing installation: torch 1.5.1\n",
      "Uninstalling torch-1.5.1:\n",
      "  Would remove:\n",
      "    /home/pushkara/anaconda3/bin/convert-caffe2-to-onnx\n",
      "    /home/pushkara/anaconda3/bin/convert-onnx-to-caffe2\n",
      "    /home/pushkara/anaconda3/lib/python3.7/site-packages/caffe2/*\n",
      "    /home/pushkara/anaconda3/lib/python3.7/site-packages/torch-1.5.1.dist-info/*\n",
      "    /home/pushkara/anaconda3/lib/python3.7/site-packages/torch/*\n",
      "Proceed (y/n)? ^C\n",
      "\u001b[31mERROR: Operation cancelled by user\u001b[0m\n"
     ]
    }
   ],
   "source": [
    "#!pip install torch"
   ]
  },
  {
   "cell_type": "code",
   "execution_count": 1,
   "metadata": {},
   "outputs": [],
   "source": [
    "import torch\n",
    "import json\n",
    "from transformers import T5Tokenizer,T5ForConditionalGeneration,T5Config"
   ]
  },
  {
   "cell_type": "code",
   "execution_count": 2,
   "metadata": {},
   "outputs": [],
   "source": [
    "model = T5ForConditionalGeneration.from_pretrained('t5-small')\n",
    "tokenizer = T5Tokenizer.from_pretrained('t5-small')\n",
    "device = torch.device('cpu')"
   ]
  },
  {
   "cell_type": "code",
   "execution_count": 3,
   "metadata": {},
   "outputs": [],
   "source": [
    "def summarizer(input):\n",
    "    preprocess_text = input.strip().replace(\"\\n\",'')\n",
    "    #print(len(preprocess_text))\n",
    "    t5_prepared_text = \"summarize: \"+preprocess_text\n",
    "    \n",
    "    text = tokenizer.tokenize(t5_prepared_text)\n",
    "    if len(text) > 512:\n",
    "        text = text[:512]\n",
    "        \n",
    "    tokenzid_text = tokenizer.encode(text,return_tensors=\"pt\").to(device)\n",
    "    summary_ids = model.generate(tokenzid_text,num_beams=4,no_repeat_ngram_size=2,min_length=60,max_length=120,early_stopping=True)\n",
    "    output = tokenizer.decode(summary_ids[0],skip_special_tokens=True)\n",
    "    temp = output.split()\n",
    "    for i in range(len(temp)):\n",
    "        if(i==0):\n",
    "            temp[i] = temp[i].capitalize() \n",
    "        elif(temp[i-1]=='.' or temp[i-1][-1]=='.' or temp[i-1][:-2]=='. '):\n",
    "            temp[i] = temp[i].capitalize() \n",
    "    output = ' '.join(temp)\n",
    "    c = len(output)-1\n",
    "    for i in reversed(range(len(output))):\n",
    "        if (output[c]=='.' and output[c-2]=='.'):\n",
    "            print('yes')\n",
    "            c-=2\n",
    "        elif (output[c]=='.' and output[c-2]!='.'):\n",
    "            output = output[:c+1]\n",
    "            break\n",
    "        c-=1\n",
    "    return output"
   ]
  },
  {
   "cell_type": "code",
   "execution_count": 4,
   "metadata": {},
   "outputs": [
    {
     "name": "stdout",
     "output_type": "stream",
     "text": [
      "SUMMARY:-\n",
      "\n",
      "Party launches 'e-campaign' against the \"worsening law and order situation\" in the state. The party will run an online campaign with party leaders and workers going live on facebook on Sunday afternoon, he said - an appeal will be made to people to post their messages on Facebook, Twitter and Instagram against a rising crime graph.\n"
     ]
    }
   ],
   "source": [
    "text2 = \"\"\"\n",
    "There is a “jungle raj” prevailing in Uttar Pradesh where no one, including police, is safe, Congress national general secretary Priyanka Gandhi Vadra said on Saturday, a day after eight policemen were killed in an encounter with criminals in Kanpur.In a video conference with party’s senior leaders in the state, Gandhi also accused the ruling BJP leaders and government officials of having nexus with criminals, as the party decided to launch an ‘e-campaign’ through various social media platforms against the “worsening law and order situation” in the state.Party’s state media convener Lallan Kumar said the leaders discussed the prevailing law and order situation in the state in detail.During the conference, Gandhi said “there is a jungle raj prevailing in UP where even policemen are not safe”, quoted Kumar.She said the state’s law and order situation has been demolished due to the nexus of ruling party leaders and government officials with criminals, said Kumar.“The criminals’ morale has been boosted due to the government’s patronage to them,” Kumar quoted Gandhi as saying.He said the party decided to launch a campaign against the “bad shape of law and order” and “jungle raj” in the state and expose criminals and the leaders extending patronage to them.The party will run an online campaign with party leaders and workers going live on Facebook on Sunday afternoon, he said, adding that an appeal will be made to people to post their messages on Facebook, Twitter and Instagram against the rising crime graph in the state.The party will also reach out to the people and ask them to write to party leaders and workers if they had any problem regarding the law and order situation.The party will send their messages to the state governor and the National Human Rights Commissions, he said.In the videoconference, the party also discussed its strategy for the coming UP Panchayat elections with leaders, said Kumar.Those present in the video meet included UPCC president Ajay Kumar Lallu, CLP leader Aradhana Misra, former Union ministers Jitin Prasad and Pradip Jain Aditya and MLC Dipak Singh among others.After the Friday encounter in Kanpur, Priyanka Gandhi had tweeted, “Eight policemen were martyred while they went to nab criminals. I pay my condolence to the family of the martyrs. In UP, law and order has become very bad and criminals have no fear. From common man to policemen, no one is safe,\" she said.\"The responsibility of law and order is with the chief minister. He should initiate strict action and there should be no laxity in it,\" she had added.\n",
    "\"\"\"\n",
    "output = summarizer(text2)\n",
    "print(\"SUMMARY:-\\n\")\n",
    "print(output)"
   ]
  },
  {
   "cell_type": "code",
   "execution_count": 7,
   "metadata": {
    "scrolled": false
   },
   "outputs": [
    {
     "name": "stdout",
     "output_type": "stream",
     "text": [
      "SUMMARY:-\n",
      "\n",
      "Pen in Raigadh district is the epicentre of Ganpati idol-making in Maharashtra. The small sleepy town exports large quantities of idols to far-off lands like the US and the UK but this year the coronavirus lockdown happened. Most idol makers are now hoping that the Vignaharta will save them from the economic crisis that they are about to face. Nilesh Samel, 31, and his brothers run the Deepak Kala Kendra where they make thousands - but only 15,000 gragra\n"
     ]
    }
   ],
   "source": [
    "text2 = \"\"\"\n",
    "Pen in Raigadh district is the epicentre of Ganpati idol-making in Maharashtra. The small sleepy town exports large quantities of idols to far-off lands like the US and the UK. But this year, just as exports were to begin, the coronavirus lockdown happened. Most idol makers are now hoping that the Vignaharta will save them from the economic crisis that they are about to face.31-year-old Nilesh Samel and his brothers run the Deepak Kala Kendra started by his father where they make thousands of idols through the year. The workers in his factory are now putting in extra shifts and trying to finish the orders but the three months that they lost during lockdown have left deep worry lines on his forehead.Samel says, “I used to make 25,000 idols every year. But this time due to lockdown, I have been able to make only 15,000. Most of my workers who live in the neighbouring villages could not come for work so idol-making came to a stop. I have suffered about 40 per cent losses because of this. Because of coronavirus, customers are also not coming to our village and we are unable to send the idols outside. I had orders from the US and many countries. But just when we were supposed to export, the coronavirus started spreading in the world. No one wanted the idols then. It takes about 50 days to get the idol from here to there. So we do not have the time to send it there now. We have somehow managed to at least send to nearby countries like Thailand and Dubai in the past few days.” Nilesh Samel overseeing work in his factory. (Photo: Saiprasad Patil)There are about 1.5 lakh idol-making factories in Pen taluka where more than 2 lakh people are employed around the year. The factories sell Ganpati idols at wholesale rates. From there the retailers sell these idols at a higher rate in other cities around the country. The people here take a break from work only for about 10 days during the Ganpati festival. Immediately after the festivities, work on procuring material and then the production of idols begin all over again for the next year's celebrations.Even though sanitisers are placed at the entrance of every factory and everyone is told to wear masks, there are hardly any customers coming to Pen this time. These idol makers tried to immediately adapt to the situation -- they took pictures of the Ganesha models to confirm the design with customers on social media and started shipping idols to cities like Mumbai which is located 80 kilometres from Pen. With most of the consignments sent off by June, the businessmen here only prepare for some local demands around this time. But streets are right now packed with vehicles as most consignments are going only now. Idols are ready and waiting for customers at Pen. (Photo: Saiprasad Patil)Tejas Samel, another idol-maker who is getting some of his idols loaded on a tempo while it rains heavily says, “I have been able to sell only 25 per cent of what I usually sell. I have made 5,000 idols this year but even 1,000 of these idols have not been sold as yet.”33-year-old Sagar Pawar along with his brothers runs his family business of making clay idols of Ganpati. The clay for this comes from Gujarat and bags full of them are still lying in his factory. In spite of the many challenges faced by them, they refuse to use Gypsum or Plaster of Paris to make the idols. Ashtavinayak Kala Kendra run by the Pawars is the largest clay idol manufacturing unit in Pen. Even former Chief Minister Devendra Fadnavis bought his Ganpati idol from here. But this time around, there are big worries that Pawar and his brothers are facing. Sagar Pawar's younger brother prepares idols at their factory in Pen. (Photo: Saiprasad Patil)Sagar says, “We make about 35,000 idols every year. Due to lockdown, we faced a lot of problems. So when we have now started working, instead of 8 hours of work, we are putting in more than 12 hours and have somehow made about 28,000 idols. Most of our export orders got cancelled due to coronavirus while even domestic demand has not picked up. Until now we have managed to only dispatch about 4,000 idols. Some of our trucks were to leave for Navi Mumbai and Thane but both these area are again under lockdown. We are not sure if we will be able to sell all these idols before the festival starts this year.”Pawar and many idol-makers like him in Pen have huge loans that they take. “We invest 10-months in this work and within two months, just before the festivity, we make our earnings and pay back the loans. It is not just me but many like me here in Pen who do this. All our gold and land is pledged for this loan. In fact, I want to request the government that if we are not able to sell our idols this year then the government should pitch in. Either the loan should be subsidised or we should be given more time to repay the loan,” adds Pawar. Shrikant Deodhar in his sculpting studio at Pen. (Photo by Saiprasad Patil)Shrikant Deodhar who is President of Shri Ganesh Murtikar Ani Vyvsaik Kalyankari Mandal, an association of all the idol-makers in Pen says, “Most of the idol-makers are still trying to make sure that they sell all the idols as there are loan and insurance rules. Many people had also suffered during cyclone Nisarga. We have given a letter to the government, the local MLA and ministers have been in touch. We will be able to assess the situation only after the festival to see how many idols have been sold and how many are still remaining. If we are not able to sell most of our idols then we will speak to the banks as well as these are genuine reasons.”READ | Impact of Covid-19: Ganpati idol makers stare at losses due to lack of raw material, restrictions in MumbaiREAD | No Lalbaugcha Raja in Mumbai this year, Ganesh festival cancelled in wake of Covid pandemicREAD | Mumbai's Ganesh Utsav festivities likely to suffer as idol makers hit hard in Covid-19 lockdownWATCH | In Depth: How Covid-19 is impacting festivities\n",
    "\n",
    "\"\"\"\n",
    "\n",
    "temp = output.split()\n",
    "for i in range(len(temp)):\n",
    "    if(i==0):\n",
    "        temp[i] = temp[i].capitalize() \n",
    "    elif(temp[i-1]=='.' or temp[i-1][-1]=='.' or temp[i-1][:-2]=='. '):\n",
    "        temp[i] = temp[i].capitalize() \n",
    "output = ' '.join(temp)\n",
    "print(\"SUMMARY:-\\n\")\n",
    "print(output)"
   ]
  },
  {
   "cell_type": "code",
   "execution_count": 52,
   "metadata": {},
   "outputs": [
    {
     "name": "stdout",
     "output_type": "stream",
     "text": [
      "SUMMARY:-\n",
      "\n",
      "Reports suggest India is urging Russia to expedite the delivery that has been delayed due to the novel coronavirus pandemic. India has made some payments but delivery was initially expected only by December 2021.Rajnath Singh says he is happy to visit Moscow at the invitation of the Russian Ministry of Defence to attend the 75th anniversary of Victory Day parade. Sources deny Chinese publication Global Times' report on the possibility of defence minister meeting his Chinse counterpart. \"the reports are not true,\" sources gragra\n"
     ]
    }
   ],
   "source": [
    "text = \"\"\"\n",
    "        India is hopeful of getting important platforms like the S-400 anti-missile system earlier than scheduled from Russia, Defence Minister Rajnath Singh hinted during a press interaction in Moscow on Tuesday.\"I have been assured that ongoing contracts will be maintained and not just maintained, in a number of cases, will be taken forward in a shorter time. All of our proposals have received a positive response from the Russian side. I am fully satisfied with my discussions,\" Rajnath Singh added.The Defence Minister did not name any specific weapons system but reports suggest that India is urging Russia to expedite the delivery that has been delayed due to the novel coronavirus pandemic. India has made some payments but the delivery was initially expected only by December 2021.Rajnath Singh also described India-Russia relations as a \"strategic partnership\".\"Our defence relationship is one of its important pillars. I had an opportunity to review our defence relationship with Deputy Prime Minister Yury Borisov and I thank him for the honour of visiting me in this hotel, despite the restrictions of the pandemic. My discussions were very positive and productive,\" the defence minister said.Borisov is the co-chair of the Inter-Governmental Commission with India on Trade & Economic & Scientific Cooperation. He also co-chairs the High Level Committee on Science & Technology along with Rajnath Singh. Their discussions on bilateral cooperation and regional issues were very positive and productive, a statement from defence ministry said.Meanwhile, sources denied Chinese publication Global Times\\' report on the possibility of Defence Minister Rajnath Singh meeting his Chinse counterpart. \"The defence minister will not meet his Chinese counterpart. The reports are not true,\" sources in the Ministry of Defence in New Delhi clarified.Rajnath Singh also said that he is happy to visit Moscow at the invitation of the Russian Ministry of Defence to attend the 75th Anniversary of the Victory Day Parade which is a most auspicious occasion for Russia and the whole world. \"Indian soldiers participated in the war effort in the millions and suffered immense causalities. Many of them were part of the war efforts to providing assistance to the Soviet Army,\" Singh told reporters.He further added how it is a great honor that an Indian Military contingent will be marching in the Red Square on June 24, a sign of everlasting friendship between the armed forces of both India and Russia.\"My visit to Moscow is the first foreign visit from India of an official delegation after the COVID pandemic. This is a sign of our special friendship. Despite all the difficulties of the pandemic, our bilateral relations are keeping good contacts at various levels,\" Rajnath Singh said.The defence minister went further to state that India is looking forward to hosting President of the Russian Federation Vladimir Putin at the invitation of Prime Minister Narendra Modi later this year.Earlier on Tuesday, Defence Secretary Ajay Kumar had discussions with his counterpart, Russian Deputy Defence Minister Fomin.\"I can say with confidence that the traditional friendship between India and Russia remain strong. Our mutual interests are solid and we look to future cooperation in the spirit of our special friendship,\" Defence Minister Rajnath Singh told reporters in Moscow on Tuesday.READ | No quick fix solution, disengagement in Ladakh to be staggered over monthsALSO READ | FMs focus on multilateralism in key RIC meet, Jaishank'\n",
    "\n",
    "\n",
    "\"\"\"\n",
    "\n",
    "output = summarizer(text)\n",
    "print(\"SUMMARY:-\\n\")\n",
    "print(output)"
   ]
  },
  {
   "cell_type": "code",
   "execution_count": 45,
   "metadata": {},
   "outputs": [
    {
     "name": "stdout",
     "output_type": "stream",
     "text": [
      "SUMMARY:-\n",
      "\n",
      "Police recovered the body TMC leader on Saturday. He was out on a picnic in west Bengal's Birbhum district on friday night - but did not return home. On family' complaint, police found his body on Sunday night.investigation in the matter is on.Champa Das, outgoing councillor of Uttar Barrackpore Municipality, was shot in her leg by miscreants while she was sitting in local party office in Ichapur area in north 24 Parganas district. The incident ''..-\n"
     ]
    }
   ],
   "source": [
    "text3 = \"\"\"\n",
    "Trinamool Congress (TMC) leader was shot dead in West Bengal's Birbhum district while he was out on a picnic. Police recovered the body TMC leader on Saturday.\n",
    "\n",
    "According to the deceased's family, two unknown people called the TMC leader, Shishir Baury, for a picnic on Friday night. However, he did not return home.\n",
    "\n",
    "On family's complaint, a search operation was launched to locate Shishir Baury and subsequently, police found his body on Saturday night.\n",
    "\n",
    "Investigation in the matter is on.\n",
    "\n",
    "Meanwhile, a TMC councillor received bullet injuries after miscreants fired at her while she was sitting in the local party office in Ichapur area in North 24 Parganas district.\n",
    "\n",
    "Champa Das, outgoing councillor of Uttar Barrackpore Municipality, was shot in her leg by miscreants while she was in the local party office in Ichapur.\n",
    "\n",
    "Champa Das was taken to BN Bose hospital in Barrackpore and was later shifted to Kolkata for better treatment.\n",
    "\n",
    "Das had won municipality election as an independent candidate but later joined TMC.\n",
    "\n",
    "Police has launched an investigation in the matter.\n",
    "\n",
    "It is, however, not clear whether Das was the main target. The incident has led to panic in the area.\n",
    "\n",
    "\"Champa Das won as an independent candidate, later she joined TMC. Whoever fired must be arrested. She was taken to BN Bose Hospital and she was referred to Appollo Hospital in Kolkata later,\" Uttam Das, chairman Barrackpore municipality said.\n",
    "\"\"\"\n",
    "output = summarizer(text3)\n",
    "print(\"SUMMARY:-\\n\")\n",
    "print(output)\n"
   ]
  },
  {
   "cell_type": "code",
   "execution_count": 8,
   "metadata": {},
   "outputs": [
    {
     "data": {
      "application/vnd.jupyter.widget-view+json": {
       "model_id": "efc1e3873bc249849fe1c57ce6955209",
       "version_major": 2,
       "version_minor": 0
      },
      "text/plain": [
       "HBox(children=(FloatProgress(value=0.0, description='Downloading', max=230.0, style=ProgressStyle(description_…"
      ]
     },
     "metadata": {},
     "output_type": "display_data"
    },
    {
     "name": "stdout",
     "output_type": "stream",
     "text": [
      "\n"
     ]
    }
   ],
   "source": [
    "from transformers import pipeline\n",
    "t5_summarizer = pipeline(\"summarization\", model=\"t5-base\", tokenizer=\"t5-base\")"
   ]
  },
  {
   "cell_type": "code",
   "execution_count": null,
   "metadata": {},
   "outputs": [
    {
     "name": "stderr",
     "output_type": "stream",
     "text": [
      "Your min_length is set to 120, but you input_length is only 4. You might consider decreasing min_length manually, e.g. summarizer('...', min_length=10)\n",
      "Your max_length is set to 200, but you input_length is only 4. You might consider decreasing max_length manually, e.g. summarizer('...', max_length=50)\n"
     ]
    }
   ],
   "source": [
    "summary = t5_summarizer(text3, min_length=120, max_length=200)\n",
    "\n",
    "output = summary[0]['summary_text']\n",
    "temp = output.split()\n",
    "for i in range(len(temp)):\n",
    "    if(i==0):\n",
    "        temp[i] = temp[i].capitalize() \n",
    "    elif(temp[i-1]=='.' or temp[i-1][-1]=='.' or temp[i-1][:-2]=='. '):\n",
    "        temp[i] = temp[i].capitalize() \n",
    "output = ' '.join(temp)\n"
   ]
  },
  {
   "cell_type": "code",
   "execution_count": 14,
   "metadata": {},
   "outputs": [
    {
     "data": {
      "text/plain": [
       "'Pen in Raigadh district is the epicentre of Ganpati idol-making in Maharashtra . The small sleepy town exports large quantities of idols to far-off lands like the US and the UK . But this year, just as exports were to begin, the coronavirus lockdown happened . Most idol makers are now hoping that the vignaharta will save them from the economic crisis that they are about to face . Many idol-makers are still trying to make sure that they sell all the'"
      ]
     },
     "execution_count": 14,
     "metadata": {},
     "output_type": "execute_result"
    }
   ],
   "source": [
    "output"
   ]
  },
  {
   "cell_type": "code",
   "execution_count": null,
   "metadata": {},
   "outputs": [],
   "source": []
  }
 ],
 "metadata": {
  "kernelspec": {
   "display_name": "Python 3",
   "language": "python",
   "name": "python3"
  },
  "language_info": {
   "codemirror_mode": {
    "name": "ipython",
    "version": 3
   },
   "file_extension": ".py",
   "mimetype": "text/x-python",
   "name": "python",
   "nbconvert_exporter": "python",
   "pygments_lexer": "ipython3",
   "version": "3.8.2"
  }
 },
 "nbformat": 4,
 "nbformat_minor": 4
}
